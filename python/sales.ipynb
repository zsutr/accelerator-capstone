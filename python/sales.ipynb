{
 "cells": [
  {
   "cell_type": "code",
   "execution_count": 1,
   "metadata": {},
   "outputs": [
    {
     "name": "stdout",
     "output_type": "stream",
     "text": [
      "Dummy data inserted successfully.\n"
     ]
    }
   ],
   "source": [
    "from pymongo import MongoClient\n",
    "from faker import Faker\n",
    "import random\n",
    "\n",
    "# Connect to MongoDB\n",
    "client = MongoClient('mongodb://localhost:27017/')\n",
    "db = client['sales']\n",
    "collection = db['recommendation']\n",
    "\n",
    "# Generate dummy data\n",
    "fake = Faker()\n",
    "products = []\n",
    "for _ in range(1000):\n",
    "    product = {\n",
    "        'name': fake.word(),\n",
    "        'category': fake.word(),\n",
    "        'description': fake.sentence(),\n",
    "        'price': round(random.uniform(10, 1000), 2),\n",
    "        'popularity': random.randint(1, 10),\n",
    "        'durability': random.randint(1, 5)\n",
    "    }\n",
    "    products.append(product)\n",
    "\n",
    "# add data into MongoDB\n",
    "collection.insert_many(products)\n",
    "print(\"Dummy data inserted successfully.\")\n"
   ]
  },
  {
   "cell_type": "code",
   "execution_count": null,
   "metadata": {},
   "outputs": [],
   "source": []
  }
 ],
 "metadata": {
  "kernelspec": {
   "display_name": "Python 3",
   "language": "python",
   "name": "python3"
  },
  "language_info": {
   "codemirror_mode": {
    "name": "ipython",
    "version": 3
   },
   "file_extension": ".py",
   "mimetype": "text/x-python",
   "name": "python",
   "nbconvert_exporter": "python",
   "pygments_lexer": "ipython3",
   "version": "3.12.3"
  }
 },
 "nbformat": 4,
 "nbformat_minor": 2
}
